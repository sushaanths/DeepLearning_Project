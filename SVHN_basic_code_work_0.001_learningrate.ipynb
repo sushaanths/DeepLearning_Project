{
 "cells": [
  {
   "cell_type": "code",
   "execution_count": 1,
   "metadata": {
    "collapsed": false
   },
   "outputs": [
    {
     "data": {
      "image/png": "[encoded data removed]",
      "text/plain": [
       "<matplotlib.figure.Figure at 0x7f259cf03d10>"
      ]
     },
     "metadata": {},
     "output_type": "display_data"
    },
    {
     "name": "stdout",
     "output_type": "stream",
     "text": [
      "73257 Images with 32 x 32 RGB grid\n"
     ]
    }
   ],
   "source": [
    "import tensorflow as tf \n",
    "import scipy.io\n",
    "import numpy as np\n",
    "import matplotlib.pyplot as plt\n",
    "from collections import Counter\n",
    "\n",
    "\"\"\"\n",
    "Extracting Training and Testing Data from .mat Files\n",
    "\"\"\"\n",
    "X_train = scipy.io.loadmat('train_32x32.mat')['X']\n",
    "Y_train = scipy.io.loadmat('train_32x32.mat')['y']\n",
    "X_test = scipy.io.loadmat('test_32x32.mat')['X']\n",
    "Y_test = scipy.io.loadmat('test_32x32.mat')['y']\n",
    "shape_train = X_train.shape\n",
    "shape_test = X_test.shape\n",
    "\n",
    "\"\"\"\n",
    "Plotting Class Labels against their respective frequencies in a Bar Graph\n",
    "\"\"\"\n",
    "tmp_labels = Y_train.reshape(73257).tolist()\n",
    "tmp_labels = dict(Counter(tmp_labels))\n",
    "plt.bar(range(len(tmp_labels)), tmp_labels.values(), align='center', color='blue', label='Training Labels')\n",
    "plt.xticks(range(len(tmp_labels)), tmp_labels.keys())\n",
    "tmp_labels = Y_test.reshape(26032).tolist()\n",
    "tmp_labels = dict(Counter(tmp_labels))\n",
    "plt.bar(range(len(tmp_labels)), tmp_labels.values(), align='center', color='red', label='Testing Labels')\n",
    "plt.legend()\n",
    "plt.xlabel('SVHN Class Labels')\n",
    "plt.ylabel('Frequency')\n",
    "plt.title('Frequency Distribution of SVHN Class Labels')\n",
    "plt.show()\n",
    "\n",
    "\n",
    "print shape_train[3], \"Images with\", shape_train[0], \"x\", shape_train[0], \"RGB grid\""
   ]
  },
  {
   "cell_type": "code",
   "execution_count": null,
   "metadata": {
    "collapsed": true
   },
   "outputs": [],
   "source": []
  },
  {
   "cell_type": "code",
   "execution_count": 2,
   "metadata": {
    "collapsed": false
   },
   "outputs": [],
   "source": [
    "def reformat(data, Y):\n",
    "    train = []\n",
    "    trainLen = data.shape[3]\n",
    "    for x in xrange(trainLen):\n",
    "        train.append(data[:,:,:,x])\n",
    "    train = np.asarray(train)\n",
    "    Ytr=[]\n",
    "    for el in Y:\n",
    "        tmp=np.zeros(10)\n",
    "        if el==10:\n",
    "            tmp[0]=1\n",
    "        elif el==1:\n",
    "            tmp[1]=1\n",
    "        elif el==2:\n",
    "            tmp[2]=1\n",
    "        elif el==3:\n",
    "            tmp[3]=1\n",
    "        elif el==4:\n",
    "            tmp[4]=1\n",
    "        elif el==5:\n",
    "            tmp[5]=1\n",
    "        elif el==6:\n",
    "            tmp[6]=1\n",
    "        elif el==7:\n",
    "            tmp[7]=1\n",
    "        elif el==8:\n",
    "            tmp[8]=1\n",
    "        elif el==9:\n",
    "            tmp[9]=1\n",
    "        Ytr.append(tmp)\n",
    "    return train, np.asarray(Ytr)"
   ]
  },
  {
   "cell_type": "code",
   "execution_count": null,
   "metadata": {
    "collapsed": true
   },
   "outputs": [],
   "source": []
  },
  {
   "cell_type": "code",
   "execution_count": 3,
   "metadata": {
    "collapsed": false
   },
   "outputs": [],
   "source": [
    "X_train = X_train.astype('float32') / 2048.0 - 1\n",
    "X_test = X_test.astype('float32') / 2048.0 - 1"
   ]
  },
  {
   "cell_type": "code",
   "execution_count": null,
   "metadata": {
    "collapsed": true
   },
   "outputs": [],
   "source": []
  },
  {
   "cell_type": "code",
   "execution_count": 4,
   "metadata": {
    "collapsed": false
   },
   "outputs": [],
   "source": [
    "X_train, Y_train = reformat(X_train, Y_train)\n",
    "X_test, Y_test = reformat(X_test, Y_test)"
   ]
  },
  {
   "cell_type": "code",
   "execution_count": null,
   "metadata": {
    "collapsed": true
   },
   "outputs": [],
   "source": []
  },
  {
   "cell_type": "code",
   "execution_count": 5,
   "metadata": {
    "collapsed": true
   },
   "outputs": [],
   "source": [
    "x_reshape_train = X_train.reshape(73257,-1)\n",
    "x_reshape_test = X_test.reshape(26032,-1)"
   ]
  },
  {
   "cell_type": "code",
   "execution_count": null,
   "metadata": {
    "collapsed": true
   },
   "outputs": [],
   "source": []
  },
  {
   "cell_type": "code",
   "execution_count": 6,
   "metadata": {
    "collapsed": false,
    "scrolled": false
   },
   "outputs": [],
   "source": [
    "learning_rate = 0.001 # changed learning rate from .5 to .001\n",
    "training_epochs = 150\n",
    "display_step = 1\n",
    "\n",
    "# Network Parameters\n",
    "n_hidden_1 = 128 # changed hidden from 100 to 128, 1st layer number of features\n",
    "width = 32\n",
    "height = 32\n",
    "n_input = 3072 # changed input from 2 to 3, MNIST data input (img shape: 28*28)\n",
    "n_classes = 10 # changed classes to 10 from 3, MNIST total classes (0-9 digits)\n",
    "\n",
    "# tf Graph input\n",
    "x = tf.placeholder(\"float32\", shape = (None, n_input))\n",
    "y = tf.placeholder(\"float32\", shape = (None, n_classes))\n"
   ]
  },
  {
   "cell_type": "code",
   "execution_count": null,
   "metadata": {
    "collapsed": true
   },
   "outputs": [],
   "source": []
  },
  {
   "cell_type": "code",
   "execution_count": 7,
   "metadata": {
    "collapsed": false
   },
   "outputs": [],
   "source": [
    "# Create model\n",
    "def multilayer_perceptron(x, weights, biases):\n",
    "    # Hidden layer with RELU activation\n",
    "    #type(x)\n",
    "    #print y.shape\n",
    "    print weights['h1']\n",
    "    layer_1 = tf.add(tf.matmul(x, weights['h1']), biases['b1'])\n",
    "    layer_1 = tf.maximum(0.1 * layer_1, layer_1)\n",
    "    # Output layer with linear activation\n",
    "    out_layer = tf.matmul(layer_1, weights['out']) + biases['out']\n",
    "    print out_layer\n",
    "    return out_layer\n",
    "\n",
    "# Store layers weight & bias\n",
    "weights = {\n",
    "    'h1': tf.Variable(tf.random_normal([n_input,n_hidden_1])),\n",
    "    'out': tf.Variable(tf.random_normal([n_hidden_1, n_classes]))\n",
    "}\n",
    "biases = {\n",
    "    'b1': tf.Variable(tf.random_normal([n_hidden_1])),\n",
    "    'out': tf.Variable(tf.random_normal([n_classes]))\n",
    "}\n",
    "\n"
   ]
  },
  {
   "cell_type": "code",
   "execution_count": null,
   "metadata": {
    "collapsed": true
   },
   "outputs": [],
   "source": []
  },
  {
   "cell_type": "code",
   "execution_count": 8,
   "metadata": {
    "collapsed": false
   },
   "outputs": [
    {
     "name": "stdout",
     "output_type": "stream",
     "text": [
      "<tensorflow.python.ops.variables.Variable object at 0x7f259b352250>\n",
      "<tensorflow.python.ops.variables.Variable object at 0x7f259b352250>\n",
      "Tensor(\"add:0\", shape=(?, 10), dtype=float32)\n"
     ]
    }
   ],
   "source": [
    "# Construct model\n",
    "#pred = multilayer_perceptron(x, weights, biases)\n",
    "print weights['h1']\n",
    "pred = multilayer_perceptron(x=x, weights=weights, biases=biases)"
   ]
  },
  {
   "cell_type": "code",
   "execution_count": null,
   "metadata": {
    "collapsed": true
   },
   "outputs": [],
   "source": []
  },
  {
   "cell_type": "code",
   "execution_count": 9,
   "metadata": {
    "collapsed": true
   },
   "outputs": [],
   "source": [
    "# Define loss and optimizer\n",
    "cost = tf.reduce_mean(tf.nn.softmax_cross_entropy_with_logits(logits=pred, labels=y))\n",
    "optimizer = tf.train.GradientDescentOptimizer(learning_rate=learning_rate).minimize(cost)\n",
    "\n",
    "# Initializing the variables\n",
    "init = tf.initialize_all_variables()\n",
    "\n",
    "sess = tf.Session()\n",
    "sess.run(init)"
   ]
  },
  {
   "cell_type": "code",
   "execution_count": null,
   "metadata": {
    "collapsed": true
   },
   "outputs": [],
   "source": []
  },
  {
   "cell_type": "code",
   "execution_count": 10,
   "metadata": {
    "collapsed": false
   },
   "outputs": [
    {
     "name": "stdout",
     "output_type": "stream",
     "text": [
      "('Epoch:', '0001', 'cost=', '319.080291748')\n",
      "('Epoch:', '0002', 'cost=', '191.228805542')\n",
      "('Epoch:', '0003', 'cost=', '222.815505981')\n",
      "('Epoch:', '0004', 'cost=', '133.971389771')\n",
      "('Epoch:', '0005', 'cost=', '84.511558533')\n",
      "('Epoch:', '0006', 'cost=', '108.835243225')\n",
      "('Epoch:', '0007', 'cost=', '108.367668152')\n",
      "('Epoch:', '0008', 'cost=', '102.614883423')\n",
      "('Epoch:', '0009', 'cost=', '104.840187073')\n",
      "('Epoch:', '0010', 'cost=', '87.272125244')\n",
      "('Epoch:', '0011', 'cost=', '105.850242615')\n",
      "('Epoch:', '0012', 'cost=', '99.771316528')\n",
      "('Epoch:', '0013', 'cost=', '62.818195343')\n",
      "('Epoch:', '0014', 'cost=', '60.973987579')\n",
      "('Epoch:', '0015', 'cost=', '71.659896851')\n",
      "('Epoch:', '0016', 'cost=', '101.823554993')\n",
      "('Epoch:', '0017', 'cost=', '114.696014404')\n",
      "('Epoch:', '0018', 'cost=', '96.419113159')\n",
      "('Epoch:', '0019', 'cost=', '88.209075928')\n",
      "('Epoch:', '0020', 'cost=', '88.183685303')\n",
      "('Epoch:', '0021', 'cost=', '84.316802979')\n",
      "('Epoch:', '0022', 'cost=', '107.773651123')\n",
      "('Epoch:', '0023', 'cost=', '85.072830200')\n",
      "('Epoch:', '0024', 'cost=', '91.073081970')\n",
      "('Epoch:', '0025', 'cost=', '63.661758423')\n",
      "('Epoch:', '0026', 'cost=', '89.008338928')\n",
      "('Epoch:', '0027', 'cost=', '106.549804688')\n",
      "('Epoch:', '0028', 'cost=', '93.776275635')\n",
      "('Epoch:', '0029', 'cost=', '80.516120911')\n",
      "('Epoch:', '0030', 'cost=', '93.323745728')\n",
      "('Epoch:', '0031', 'cost=', '89.069267273')\n",
      "('Epoch:', '0032', 'cost=', '108.605239868')\n",
      "('Epoch:', '0033', 'cost=', '128.034713745')\n",
      "('Epoch:', '0034', 'cost=', '118.580924988')\n",
      "('Epoch:', '0035', 'cost=', '111.090469360')\n",
      "('Epoch:', '0036', 'cost=', '101.087471008')\n",
      "('Epoch:', '0037', 'cost=', '104.987052917')\n",
      "('Epoch:', '0038', 'cost=', '112.831649780')\n",
      "('Epoch:', '0039', 'cost=', '109.460601807')\n",
      "('Epoch:', '0040', 'cost=', '71.368797302')\n",
      "('Epoch:', '0041', 'cost=', '78.376052856')\n",
      "('Epoch:', '0042', 'cost=', '99.958335876')\n",
      "('Epoch:', '0043', 'cost=', '120.412712097')\n",
      "('Epoch:', '0044', 'cost=', '122.817817688')\n",
      "('Epoch:', '0045', 'cost=', '108.264732361')\n",
      "('Epoch:', '0046', 'cost=', '62.805904388')\n",
      "('Epoch:', '0047', 'cost=', '86.510162354')\n",
      "('Epoch:', '0048', 'cost=', '87.335746765')\n",
      "('Epoch:', '0049', 'cost=', '93.355606079')\n",
      "('Epoch:', '0050', 'cost=', '76.566802979')\n",
      "('Epoch:', '0051', 'cost=', '82.588005066')\n",
      "('Epoch:', '0052', 'cost=', '78.780754089')\n",
      "('Epoch:', '0053', 'cost=', '87.712989807')\n",
      "('Epoch:', '0054', 'cost=', '70.822265625')\n",
      "('Epoch:', '0055', 'cost=', '69.729637146')\n",
      "('Epoch:', '0056', 'cost=', '65.317993164')\n",
      "('Epoch:', '0057', 'cost=', '76.333824158')\n",
      "('Epoch:', '0058', 'cost=', '102.794357300')\n",
      "('Epoch:', '0059', 'cost=', '108.923645020')\n",
      "('Epoch:', '0060', 'cost=', '113.621932983')\n",
      "('Epoch:', '0061', 'cost=', '74.049194336')\n",
      "('Epoch:', '0062', 'cost=', '77.125633240')\n",
      "('Epoch:', '0063', 'cost=', '100.811386108')\n",
      "('Epoch:', '0064', 'cost=', '112.148658752')\n",
      "('Epoch:', '0065', 'cost=', '84.635383606')\n",
      "('Epoch:', '0066', 'cost=', '87.273376465')\n",
      "('Epoch:', '0067', 'cost=', '92.199974060')\n",
      "('Epoch:', '0068', 'cost=', '78.655349731')\n",
      "('Epoch:', '0069', 'cost=', '100.478935242')\n",
      "('Epoch:', '0070', 'cost=', '112.412353516')\n",
      "('Epoch:', '0071', 'cost=', '93.317634583')\n",
      "('Epoch:', '0072', 'cost=', '88.698303223')\n",
      "('Epoch:', '0073', 'cost=', '94.144981384')\n",
      "('Epoch:', '0074', 'cost=', '101.901786804')\n",
      "('Epoch:', '0075', 'cost=', '119.279891968')\n",
      "('Epoch:', '0076', 'cost=', '108.361152649')\n",
      "('Epoch:', '0077', 'cost=', '74.836013794')\n",
      "('Epoch:', '0078', 'cost=', '62.510742188')\n",
      "('Epoch:', '0079', 'cost=', '80.569610596')\n",
      "('Epoch:', '0080', 'cost=', '80.344833374')\n",
      "('Epoch:', '0081', 'cost=', '72.579811096')\n",
      "('Epoch:', '0082', 'cost=', '92.036880493')\n",
      "('Epoch:', '0083', 'cost=', '97.028419495')\n",
      "('Epoch:', '0084', 'cost=', '80.342903137')\n",
      "('Epoch:', '0085', 'cost=', '83.159561157')\n",
      "('Epoch:', '0086', 'cost=', '92.262535095')\n",
      "('Epoch:', '0087', 'cost=', '62.480686188')\n",
      "('Epoch:', '0088', 'cost=', '65.348258972')\n",
      "('Epoch:', '0089', 'cost=', '75.424148560')\n",
      "('Epoch:', '0090', 'cost=', '102.554100037')\n",
      "('Epoch:', '0091', 'cost=', '81.016571045')\n",
      "('Epoch:', '0092', 'cost=', '94.707321167')\n",
      "('Epoch:', '0093', 'cost=', '83.265670776')\n",
      "('Epoch:', '0094', 'cost=', '59.926361084')\n",
      "('Epoch:', '0095', 'cost=', '58.531940460')\n",
      "('Epoch:', '0096', 'cost=', '70.130523682')\n",
      "('Epoch:', '0097', 'cost=', '84.442543030')\n",
      "('Epoch:', '0098', 'cost=', '58.320426941')\n",
      "('Epoch:', '0099', 'cost=', '72.581176758')\n",
      "('Epoch:', '0100', 'cost=', '97.394180298')\n",
      "('Epoch:', '0101', 'cost=', '116.008514404')\n",
      "('Epoch:', '0102', 'cost=', '110.722686768')\n",
      "('Epoch:', '0103', 'cost=', '111.535385132')\n",
      "('Epoch:', '0104', 'cost=', '106.130622864')\n",
      "('Epoch:', '0105', 'cost=', '106.321418762')\n",
      "('Epoch:', '0106', 'cost=', '119.851593018')\n",
      "('Epoch:', '0107', 'cost=', '92.082923889')\n",
      "('Epoch:', '0108', 'cost=', '79.693901062')\n",
      "('Epoch:', '0109', 'cost=', '68.772499084')\n",
      "('Epoch:', '0110', 'cost=', '76.165275574')\n",
      "('Epoch:', '0111', 'cost=', '85.884819031')\n",
      "('Epoch:', '0112', 'cost=', '81.523597717')\n",
      "('Epoch:', '0113', 'cost=', '82.294891357')\n",
      "('Epoch:', '0114', 'cost=', '81.523475647')\n",
      "('Epoch:', '0115', 'cost=', '102.739982605')\n",
      "('Epoch:', '0116', 'cost=', '88.787216187')\n",
      "('Epoch:', '0117', 'cost=', '95.276908875')\n",
      "('Epoch:', '0118', 'cost=', '105.566978455')\n",
      "('Epoch:', '0119', 'cost=', '106.400703430')\n",
      "('Epoch:', '0120', 'cost=', '105.117950439')\n",
      "('Epoch:', '0121', 'cost=', '77.213668823')\n",
      "('Epoch:', '0122', 'cost=', '74.390251160')\n",
      "('Epoch:', '0123', 'cost=', '69.855079651')\n",
      "('Epoch:', '0124', 'cost=', '70.944374084')\n",
      "('Epoch:', '0125', 'cost=', '61.955780029')\n",
      "('Epoch:', '0126', 'cost=', '55.877178192')\n",
      "('Epoch:', '0127', 'cost=', '80.951690674')\n",
      "('Epoch:', '0128', 'cost=', '91.994544983')\n",
      "('Epoch:', '0129', 'cost=', '72.467330933')\n",
      "('Epoch:', '0130', 'cost=', '77.637084961')\n",
      "('Epoch:', '0131', 'cost=', '79.086364746')\n",
      "('Epoch:', '0132', 'cost=', '86.762435913')\n",
      "('Epoch:', '0133', 'cost=', '111.295928955')\n",
      "('Epoch:', '0134', 'cost=', '91.403755188')\n",
      "('Epoch:', '0135', 'cost=', '65.073425293')\n",
      "('Epoch:', '0136', 'cost=', '61.292716980')\n",
      "('Epoch:', '0137', 'cost=', '77.055183411')\n",
      "('Epoch:', '0138', 'cost=', '91.163803101')\n",
      "('Epoch:', '0139', 'cost=', '103.051986694')\n",
      "('Epoch:', '0140', 'cost=', '96.233528137')\n",
      "('Epoch:', '0141', 'cost=', '92.531372070')\n",
      "('Epoch:', '0142', 'cost=', '54.763519287')\n",
      "('Epoch:', '0143', 'cost=', '42.696960449')\n",
      "('Epoch:', '0144', 'cost=', '47.963497162')\n",
      "('Epoch:', '0145', 'cost=', '59.873096466')\n",
      "('Epoch:', '0146', 'cost=', '62.899833679')\n",
      "('Epoch:', '0147', 'cost=', '60.756950378')\n",
      "('Epoch:', '0148', 'cost=', '41.407592773')\n",
      "('Epoch:', '0149', 'cost=', '31.598875046')\n",
      "('Epoch:', '0150', 'cost=', '42.529083252')\n",
      "Optimization Finished!\n",
      "('Accuracy:', 0.11036417)\n"
     ]
    }
   ],
   "source": [
    "# Launch the graph\n",
    "\n",
    "# Training cycle\n",
    "for epoch in range(training_epochs):\n",
    "    avg_cost = 0.\n",
    "    # Loop over all batches\n",
    "    #batch_x, batch_y = mnist.train.next_batch(batch_size)\n",
    "    # Run optimization op (backprop) and cost op (to get loss value)\n",
    "    _, c = sess.run([optimizer, cost],feed_dict={x: x_reshape_train, y: Y_train})\n",
    "    #_, c = sess.run([optimizer, cost], feed_dict={x: X_train, y_: y_train})\n",
    "    # Compute average loss\n",
    "    # Display logs per epoch step\n",
    "    if epoch % display_step == 0:\n",
    "        print(\"Epoch:\", '%04d' % (epoch+1), \"cost=\", \\\n",
    "            \"{:.9f}\".format(c))\n",
    "print(\"Optimization Finished!\")\n",
    "\n",
    "# Test model\n",
    "correct_prediction = tf.equal(tf.argmax(pred, 1), tf.argmax(y, 1))\n",
    "# Calculate accuracy\n",
    "accuracy = tf.reduce_mean(tf.cast(correct_prediction, \"float\"))\n",
    "print(\"Accuracy:\", accuracy.eval({x: x_reshape_test, y: Y_test},session=sess))"
   ]
  },
  {
   "cell_type": "code",
   "execution_count": null,
   "metadata": {
    "collapsed": true
   },
   "outputs": [],
   "source": []
  }
 ],
 "metadata": {
  "kernelspec": {
   "display_name": "Python 2",
   "language": "python",
   "name": "python2"
  },
  "language_info": {
   "codemirror_mode": {
    "name": "ipython",
    "version": 2
   },
   "file_extension": ".py",
   "mimetype": "text/x-python",
   "name": "python",
   "nbconvert_exporter": "python",
   "pygments_lexer": "ipython2",
   "version": "2.7.13"
  }
 },
 "nbformat": 4,
 "nbformat_minor": 2
}
