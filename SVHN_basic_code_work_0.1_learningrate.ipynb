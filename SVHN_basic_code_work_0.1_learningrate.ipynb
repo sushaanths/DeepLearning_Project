{
 "cells": [
  {
   "cell_type": "code",
   "execution_count": 1,
   "metadata": {
    "collapsed": false
   },
   "outputs": [
    {
     "data": {
      "image/png": "[encoded data removed]",
      "text/plain": [
       "<matplotlib.figure.Figure at 0x7ffb7b82dd10>"
      ]
     },
     "metadata": {},
     "output_type": "display_data"
    },
    {
     "name": "stdout",
     "output_type": "stream",
     "text": [
      "73257 Images with 32 x 32 RGB grid\n"
     ]
    }
   ],
   "source": [
    "import tensorflow as tf \n",
    "import scipy.io\n",
    "import numpy as np\n",
    "import matplotlib.pyplot as plt\n",
    "from collections import Counter\n",
    "\n",
    "\"\"\"\n",
    "Extracting Training and Testing Data from .mat Files\n",
    "\"\"\"\n",
    "X_train = scipy.io.loadmat('train_32x32.mat')['X']\n",
    "Y_train = scipy.io.loadmat('train_32x32.mat')['y']\n",
    "X_test = scipy.io.loadmat('test_32x32.mat')['X']\n",
    "Y_test = scipy.io.loadmat('test_32x32.mat')['y']\n",
    "shape_train = X_train.shape\n",
    "shape_test = X_test.shape\n",
    "\n",
    "\"\"\"\n",
    "Plotting Class Labels against their respective frequencies in a Bar Graph\n",
    "\"\"\"\n",
    "tmp_labels = Y_train.reshape(73257).tolist()\n",
    "tmp_labels = dict(Counter(tmp_labels))\n",
    "plt.bar(range(len(tmp_labels)), tmp_labels.values(), align='center', color='blue', label='Training Labels')\n",
    "plt.xticks(range(len(tmp_labels)), tmp_labels.keys())\n",
    "tmp_labels = Y_test.reshape(26032).tolist()\n",
    "tmp_labels = dict(Counter(tmp_labels))\n",
    "plt.bar(range(len(tmp_labels)), tmp_labels.values(), align='center', color='red', label='Testing Labels')\n",
    "plt.legend()\n",
    "plt.xlabel('SVHN Class Labels')\n",
    "plt.ylabel('Frequency')\n",
    "plt.title('Frequency Distribution of SVHN Class Labels')\n",
    "plt.show()\n",
    "\n",
    "\n",
    "print shape_train[3], \"Images with\", shape_train[0], \"x\", shape_train[0], \"RGB grid\""
   ]
  },
  {
   "cell_type": "code",
   "execution_count": null,
   "metadata": {
    "collapsed": true
   },
   "outputs": [],
   "source": []
  },
  {
   "cell_type": "code",
   "execution_count": 2,
   "metadata": {
    "collapsed": false
   },
   "outputs": [],
   "source": [
    "def reformat(data, Y):\n",
    "    train = []\n",
    "    trainLen = data.shape[3]\n",
    "    for x in xrange(trainLen):\n",
    "        train.append(data[:,:,:,x])\n",
    "    train = np.asarray(train)\n",
    "    Ytr=[]\n",
    "    for el in Y:\n",
    "        tmp=np.zeros(10)\n",
    "        if el==10:\n",
    "            tmp[0]=1\n",
    "        elif el==1:\n",
    "            tmp[1]=1\n",
    "        elif el==2:\n",
    "            tmp[2]=1\n",
    "        elif el==3:\n",
    "            tmp[3]=1\n",
    "        elif el==4:\n",
    "            tmp[4]=1\n",
    "        elif el==5:\n",
    "            tmp[5]=1\n",
    "        elif el==6:\n",
    "            tmp[6]=1\n",
    "        elif el==7:\n",
    "            tmp[7]=1\n",
    "        elif el==8:\n",
    "            tmp[8]=1\n",
    "        elif el==9:\n",
    "            tmp[9]=1\n",
    "        Ytr.append(tmp)\n",
    "    return train, np.asarray(Ytr)"
   ]
  },
  {
   "cell_type": "code",
   "execution_count": null,
   "metadata": {
    "collapsed": true
   },
   "outputs": [],
   "source": []
  },
  {
   "cell_type": "code",
   "execution_count": 3,
   "metadata": {
    "collapsed": false
   },
   "outputs": [],
   "source": [
    "X_train = X_train.astype('float32') / 2048.0 - 1\n",
    "X_test = X_test.astype('float32') / 2048.0 - 1"
   ]
  },
  {
   "cell_type": "code",
   "execution_count": null,
   "metadata": {
    "collapsed": true
   },
   "outputs": [],
   "source": []
  },
  {
   "cell_type": "code",
   "execution_count": 4,
   "metadata": {
    "collapsed": false
   },
   "outputs": [],
   "source": [
    "X_train, Y_train = reformat(X_train, Y_train)\n",
    "X_test, Y_test = reformat(X_test, Y_test)"
   ]
  },
  {
   "cell_type": "code",
   "execution_count": null,
   "metadata": {
    "collapsed": true
   },
   "outputs": [],
   "source": []
  },
  {
   "cell_type": "code",
   "execution_count": 5,
   "metadata": {
    "collapsed": true
   },
   "outputs": [],
   "source": [
    "x_reshape_train = X_train.reshape(73257,-1)\n",
    "x_reshape_test = X_test.reshape(26032,-1)"
   ]
  },
  {
   "cell_type": "code",
   "execution_count": null,
   "metadata": {
    "collapsed": true
   },
   "outputs": [],
   "source": []
  },
  {
   "cell_type": "code",
   "execution_count": 6,
   "metadata": {
    "collapsed": false,
    "scrolled": false
   },
   "outputs": [],
   "source": [
    "learning_rate = 0.1 # changed learning rate from .5 to .001\n",
    "training_epochs = 50\n",
    "display_step = 1\n",
    "\n",
    "# Network Parameters\n",
    "n_hidden_1 = 128 # changed hidden from 100 to 128, 1st layer number of features\n",
    "width = 32\n",
    "height = 32\n",
    "n_input = 3072 # changed input from 2 to 3, MNIST data input (img shape: 28*28)\n",
    "n_classes = 10 # changed classes to 10 from 3, MNIST total classes (0-9 digits)\n",
    "\n",
    "# tf Graph input\n",
    "x = tf.placeholder(\"float32\", shape = (None, n_input))\n",
    "y = tf.placeholder(\"float32\", shape = (None, n_classes))\n"
   ]
  },
  {
   "cell_type": "code",
   "execution_count": null,
   "metadata": {
    "collapsed": true
   },
   "outputs": [],
   "source": []
  },
  {
   "cell_type": "code",
   "execution_count": 7,
   "metadata": {
    "collapsed": false
   },
   "outputs": [],
   "source": [
    "# Create model\n",
    "def multilayer_perceptron(x, weights, biases):\n",
    "    # Hidden layer with RELU activation\n",
    "    #type(x)\n",
    "    #print y.shape\n",
    "    print weights['h1']\n",
    "    layer_1 = tf.add(tf.matmul(x, weights['h1']), biases['b1'])\n",
    "    layer_1 = tf.maximum(0.1 * layer_1, layer_1)\n",
    "    # Output layer with linear activation\n",
    "    out_layer = tf.matmul(layer_1, weights['out']) + biases['out']\n",
    "    print out_layer\n",
    "    return out_layer\n",
    "\n",
    "# Store layers weight & bias\n",
    "weights = {\n",
    "    'h1': tf.Variable(tf.random_normal([n_input,n_hidden_1])),\n",
    "    'out': tf.Variable(tf.random_normal([n_hidden_1, n_classes]))\n",
    "}\n",
    "biases = {\n",
    "    'b1': tf.Variable(tf.random_normal([n_hidden_1])),\n",
    "    'out': tf.Variable(tf.random_normal([n_classes]))\n",
    "}\n",
    "\n"
   ]
  },
  {
   "cell_type": "code",
   "execution_count": null,
   "metadata": {
    "collapsed": true
   },
   "outputs": [],
   "source": []
  },
  {
   "cell_type": "code",
   "execution_count": 8,
   "metadata": {
    "collapsed": false
   },
   "outputs": [
    {
     "name": "stdout",
     "output_type": "stream",
     "text": [
      "<tensorflow.python.ops.variables.Variable object at 0x7ffb79c7b250>\n",
      "<tensorflow.python.ops.variables.Variable object at 0x7ffb79c7b250>\n",
      "Tensor(\"add:0\", shape=(?, 10), dtype=float32)\n"
     ]
    }
   ],
   "source": [
    "# Construct model\n",
    "#pred = multilayer_perceptron(x, weights, biases)\n",
    "print weights['h1']\n",
    "pred = multilayer_perceptron(x=x, weights=weights, biases=biases)"
   ]
  },
  {
   "cell_type": "code",
   "execution_count": null,
   "metadata": {
    "collapsed": true
   },
   "outputs": [],
   "source": []
  },
  {
   "cell_type": "code",
   "execution_count": 9,
   "metadata": {
    "collapsed": true
   },
   "outputs": [],
   "source": [
    "# Define loss and optimizer\n",
    "cost = tf.reduce_mean(tf.nn.softmax_cross_entropy_with_logits(logits=pred, labels=y))\n",
    "optimizer = tf.train.GradientDescentOptimizer(learning_rate=learning_rate).minimize(cost)\n",
    "\n",
    "# Initializing the variables\n",
    "init = tf.initialize_all_variables()\n",
    "\n",
    "sess = tf.Session()\n",
    "sess.run(init)"
   ]
  },
  {
   "cell_type": "code",
   "execution_count": null,
   "metadata": {
    "collapsed": true
   },
   "outputs": [],
   "source": []
  },
  {
   "cell_type": "code",
   "execution_count": 10,
   "metadata": {
    "collapsed": false
   },
   "outputs": [
    {
     "name": "stdout",
     "output_type": "stream",
     "text": [
      "('Epoch:', '0001', 'cost=', '660.064941406')\n",
      "('Epoch:', '0002', 'cost=', '5967.750000000')\n",
      "('Epoch:', '0003', 'cost=', '29375.697265625')\n",
      "('Epoch:', '0004', 'cost=', '84353.937500000')\n",
      "('Epoch:', '0005', 'cost=', '38563.984375000')\n",
      "('Epoch:', '0006', 'cost=', '37409.835937500')\n",
      "('Epoch:', '0007', 'cost=', '69845.382812500')\n",
      "('Epoch:', '0008', 'cost=', '44787.648437500')\n",
      "('Epoch:', '0009', 'cost=', '75224.171875000')\n",
      "('Epoch:', '0010', 'cost=', '16254.516601562')\n",
      "('Epoch:', '0011', 'cost=', '23971.949218750')\n",
      "('Epoch:', '0012', 'cost=', '108620.937500000')\n",
      "('Epoch:', '0013', 'cost=', '33105.035156250')\n",
      "('Epoch:', '0014', 'cost=', '144846.421875000')\n",
      "('Epoch:', '0015', 'cost=', '79764.140625000')\n",
      "('Epoch:', '0016', 'cost=', '677063.625000000')\n",
      "('Epoch:', '0017', 'cost=', '34526.335937500')\n",
      "('Epoch:', '0018', 'cost=', '604060.187500000')\n",
      "('Epoch:', '0019', 'cost=', '3936692.000000000')\n",
      "('Epoch:', '0020', 'cost=', '5579168.500000000')\n",
      "('Epoch:', '0021', 'cost=', '1101655.250000000')\n",
      "('Epoch:', '0022', 'cost=', '664164.375000000')\n",
      "('Epoch:', '0023', 'cost=', '2979488.500000000')\n",
      "('Epoch:', '0024', 'cost=', '714703.687500000')\n",
      "('Epoch:', '0025', 'cost=', '1235473.750000000')\n",
      "('Epoch:', '0026', 'cost=', '522484.968750000')\n",
      "('Epoch:', '0027', 'cost=', '814920.187500000')\n",
      "('Epoch:', '0028', 'cost=', '1323198.750000000')\n",
      "('Epoch:', '0029', 'cost=', '958526.937500000')\n",
      "('Epoch:', '0030', 'cost=', '1235051.500000000')\n",
      "('Epoch:', '0031', 'cost=', '955901.500000000')\n",
      "('Epoch:', '0032', 'cost=', '571989.375000000')\n",
      "('Epoch:', '0033', 'cost=', '326377.500000000')\n",
      "('Epoch:', '0034', 'cost=', '711687.687500000')\n",
      "('Epoch:', '0035', 'cost=', '288098.156250000')\n",
      "('Epoch:', '0036', 'cost=', '1828231.375000000')\n",
      "('Epoch:', '0037', 'cost=', '2549879.000000000')\n",
      "('Epoch:', '0038', 'cost=', '2114724.500000000')\n",
      "('Epoch:', '0039', 'cost=', '1198960.500000000')\n",
      "('Epoch:', '0040', 'cost=', '3180092.250000000')\n",
      "('Epoch:', '0041', 'cost=', '3533973.250000000')\n",
      "('Epoch:', '0042', 'cost=', '3677623.250000000')\n",
      "('Epoch:', '0043', 'cost=', '4236336.500000000')\n",
      "('Epoch:', '0044', 'cost=', '3634082.500000000')\n",
      "('Epoch:', '0045', 'cost=', '6255082.500000000')\n",
      "('Epoch:', '0046', 'cost=', '5137871.000000000')\n",
      "('Epoch:', '0047', 'cost=', '2210136.500000000')\n",
      "('Epoch:', '0048', 'cost=', '11339175.000000000')\n",
      "('Epoch:', '0049', 'cost=', '4363594.000000000')\n",
      "('Epoch:', '0050', 'cost=', '4260686.000000000')\n",
      "Optimization Finished!\n",
      "('Accuracy:', 0.1107099)\n"
     ]
    }
   ],
   "source": [
    "# Launch the graph\n",
    "\n",
    "# Training cycle\n",
    "for epoch in range(training_epochs):\n",
    "    avg_cost = 0.\n",
    "    # Loop over all batches\n",
    "    #batch_x, batch_y = mnist.train.next_batch(batch_size)\n",
    "    # Run optimization op (backprop) and cost op (to get loss value)\n",
    "    _, c = sess.run([optimizer, cost],feed_dict={x: x_reshape_train, y: Y_train})\n",
    "    #_, c = sess.run([optimizer, cost], feed_dict={x: X_train, y_: y_train})\n",
    "    # Compute average loss\n",
    "    # Display logs per epoch step\n",
    "    if epoch % display_step == 0:\n",
    "        print(\"Epoch:\", '%04d' % (epoch+1), \"cost=\", \\\n",
    "            \"{:.9f}\".format(c))\n",
    "print(\"Optimization Finished!\")\n",
    "\n",
    "# Test model\n",
    "correct_prediction = tf.equal(tf.argmax(pred, 1), tf.argmax(y, 1))\n",
    "# Calculate accuracy\n",
    "accuracy = tf.reduce_mean(tf.cast(correct_prediction, \"float\"))\n",
    "print(\"Accuracy:\", accuracy.eval({x: x_reshape_test, y: Y_test},session=sess))"
   ]
  },
  {
   "cell_type": "code",
   "execution_count": null,
   "metadata": {
    "collapsed": true
   },
   "outputs": [],
   "source": []
  }
 ],
 "metadata": {
  "kernelspec": {
   "display_name": "Python 2",
   "language": "python",
   "name": "python2"
  },
  "language_info": {
   "codemirror_mode": {
    "name": "ipython",
    "version": 2
   },
   "file_extension": ".py",
   "mimetype": "text/x-python",
   "name": "python",
   "nbconvert_exporter": "python",
   "pygments_lexer": "ipython2",
   "version": "2.7.13"
  }
 },
 "nbformat": 4,
 "nbformat_minor": 2
}
